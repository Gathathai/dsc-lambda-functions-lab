{
 "cells": [
  {
   "cell_type": "markdown",
   "metadata": {},
   "source": [
    "# Lambda Functions - Lab\n",
    "\n",
    "## Introduction\n",
    "\n",
    "In this lab, you'll get some hands-on practice creating and using lambda functions.\n",
    "\n",
    "## Objectives\n",
    "\n",
    "In this lab you will:\n",
    "\n",
    "* Create lambda functions to use as arguments of other functions   \n",
    "* Use the `.map()` or `.apply()` method to apply a function to a pandas series or DataFrame"
   ]
  },
  {
   "cell_type": "markdown",
   "metadata": {},
   "source": [
    "## Lambda Functions"
   ]
  },
  {
   "cell_type": "code",
   "execution_count": 1,
   "metadata": {},
   "outputs": [
    {
     "data": {
      "text/html": [
       "<div>\n",
       "<style scoped>\n",
       "    .dataframe tbody tr th:only-of-type {\n",
       "        vertical-align: middle;\n",
       "    }\n",
       "\n",
       "    .dataframe tbody tr th {\n",
       "        vertical-align: top;\n",
       "    }\n",
       "\n",
       "    .dataframe thead th {\n",
       "        text-align: right;\n",
       "    }\n",
       "</style>\n",
       "<table border=\"1\" class=\"dataframe\">\n",
       "  <thead>\n",
       "    <tr style=\"text-align: right;\">\n",
       "      <th></th>\n",
       "      <th>business_id</th>\n",
       "      <th>cool</th>\n",
       "      <th>date</th>\n",
       "      <th>funny</th>\n",
       "      <th>review_id</th>\n",
       "      <th>stars</th>\n",
       "      <th>text</th>\n",
       "      <th>useful</th>\n",
       "      <th>user_id</th>\n",
       "    </tr>\n",
       "  </thead>\n",
       "  <tbody>\n",
       "    <tr>\n",
       "      <th>1</th>\n",
       "      <td>pomGBqfbxcqPv14c3XH-ZQ</td>\n",
       "      <td>0</td>\n",
       "      <td>2012-11-13</td>\n",
       "      <td>0</td>\n",
       "      <td>dDl8zu1vWPdKGihJrwQbpw</td>\n",
       "      <td>5</td>\n",
       "      <td>I love this place! My fiance And I go here atl...</td>\n",
       "      <td>0</td>\n",
       "      <td>msQe1u7Z_XuqjGoqhB0J5g</td>\n",
       "    </tr>\n",
       "    <tr>\n",
       "      <th>2</th>\n",
       "      <td>jtQARsP6P-LbkyjbO1qNGg</td>\n",
       "      <td>1</td>\n",
       "      <td>2014-10-23</td>\n",
       "      <td>1</td>\n",
       "      <td>LZp4UX5zK3e-c5ZGSeo3kA</td>\n",
       "      <td>1</td>\n",
       "      <td>Terrible. Dry corn bread. Rib tips were all fa...</td>\n",
       "      <td>3</td>\n",
       "      <td>msQe1u7Z_XuqjGoqhB0J5g</td>\n",
       "    </tr>\n",
       "  </tbody>\n",
       "</table>\n",
       "</div>"
      ],
      "text/plain": [
       "              business_id  cool        date  funny               review_id  \\\n",
       "1  pomGBqfbxcqPv14c3XH-ZQ     0  2012-11-13      0  dDl8zu1vWPdKGihJrwQbpw   \n",
       "2  jtQARsP6P-LbkyjbO1qNGg     1  2014-10-23      1  LZp4UX5zK3e-c5ZGSeo3kA   \n",
       "\n",
       "   stars                                               text  useful  \\\n",
       "1      5  I love this place! My fiance And I go here atl...       0   \n",
       "2      1  Terrible. Dry corn bread. Rib tips were all fa...       3   \n",
       "\n",
       "                  user_id  \n",
       "1  msQe1u7Z_XuqjGoqhB0J5g  \n",
       "2  msQe1u7Z_XuqjGoqhB0J5g  "
      ]
     },
     "execution_count": 1,
     "metadata": {},
     "output_type": "execute_result"
    }
   ],
   "source": [
    "import pandas as pd\n",
    "df = pd.read_csv('Yelp_Reviews.csv', index_col=0)\n",
    "df.head(2)"
   ]
  },
  {
   "cell_type": "markdown",
   "metadata": {},
   "source": [
    "## Simple arithmetic\n",
    "\n",
    "Use a lambda function to create a new column called `'stars_squared'` by squaring the stars column."
   ]
  },
  {
   "cell_type": "code",
   "execution_count": 2,
   "metadata": {},
   "outputs": [
    {
     "name": "stdout",
     "output_type": "stream",
     "text": [
      "                 business_id  cool        date  funny               review_id  \\\n",
      "1     pomGBqfbxcqPv14c3XH-ZQ     0  2012-11-13      0  dDl8zu1vWPdKGihJrwQbpw   \n",
      "2     jtQARsP6P-LbkyjbO1qNGg     1  2014-10-23      1  LZp4UX5zK3e-c5ZGSeo3kA   \n",
      "4     Ums3gaP2qM3W1XcA5r6SsQ     0  2014-09-05      0  jsDu6QEJHbwP2Blom1PLCA   \n",
      "5     vgfcTvK81oD4r50NMjU2Ag     0  2011-02-25      0  pfavA0hr3nyqO61oupj-lA   \n",
      "10    yFumR3CWzpfvTH2FCthvVw     0  2016-06-15      0  STiFMww2z31siPY7BWNC2g   \n",
      "...                      ...   ...         ...    ...                     ...   \n",
      "689   BTcY04QFiS1uh-RpkR7rAg     1  2013-06-02      0  6_A58CCY8SHB7r-Wu7-A5g   \n",
      "4874  t0T_4MM4EUHbCzBTF11FHA     0  2016-08-14      0  KqQwNyfoFiJOw911mrULIg   \n",
      "564   5XYR6doRa5Nj1JMfSDei6A     1  2016-06-14      0  xlGJkxoIBl8XH8wVsPZpnw   \n",
      "3458  aLcFhMe6DDJ430zelCpd2A     0  2013-10-02      0  kwiEG_KCpDB6aK5fTSM7iw   \n",
      "4206  WdBWhGe4Siqg3IYTc4_K4A     0  2016-08-15      0  O0ttxNGxHKtD8Cnnwc_j1g   \n",
      "\n",
      "      stars                                               text  useful  \\\n",
      "1         5  I love this place! My fiance And I go here atl...       0   \n",
      "2         1  Terrible. Dry corn bread. Rib tips were all fa...       3   \n",
      "4         5  Delicious healthy food. The steak is amazing. ...       0   \n",
      "5         1  This place sucks. The customer service is horr...       2   \n",
      "10        5  I have been an Emerald Club member for a numbe...       0   \n",
      "...     ...                                                ...     ...   \n",
      "689       5  Came here with my 2 year old daughter for our ...       2   \n",
      "4874      5  Great little restaurant. Not to many tables an...       0   \n",
      "564       5  Always great friendly service and fresh baked ...       0   \n",
      "3458      2  We were expecting amazing Thai food after all ...       1   \n",
      "4206      1  Sunday at 8p. Not many people here at all. We ...       0   \n",
      "\n",
      "                     user_id  stars_squared  \n",
      "1     msQe1u7Z_XuqjGoqhB0J5g             25  \n",
      "2     msQe1u7Z_XuqjGoqhB0J5g              1  \n",
      "4     msQe1u7Z_XuqjGoqhB0J5g             25  \n",
      "5     msQe1u7Z_XuqjGoqhB0J5g              1  \n",
      "10    TlvV-xJhmh7LCwJYXkV-cg             25  \n",
      "...                      ...            ...  \n",
      "689   q3AiAe-AcpDrNsdZf8nCvQ             25  \n",
      "4874  NJxaA7q9BhqaDrFpfR2Jeg             25  \n",
      "564   kBNFdviedCPFWyR-wVaAzw             25  \n",
      "3458  PkRFSQgSfca9Tamq7b2LdQ              4  \n",
      "4206  ic9zIsm7zoxUm3Axyegx8g              1  \n",
      "\n",
      "[2610 rows x 10 columns]\n"
     ]
    }
   ],
   "source": [
    "# Create the 'stars_squared' column\n",
    "df['stars_squared'] = df['stars'].apply(lambda x: x**2)\n",
    "print(df)\n",
    "\n"
   ]
  },
  {
   "cell_type": "markdown",
   "metadata": {},
   "source": [
    "## Dates\n",
    "Select the month from the date string using a lambda function."
   ]
  },
  {
   "cell_type": "code",
   "execution_count": 15,
   "metadata": {},
   "outputs": [
    {
     "data": {
      "text/plain": [
       "<function __main__.<lambda>(date_str)>"
      ]
     },
     "execution_count": 15,
     "metadata": {},
     "output_type": "execute_result"
    }
   ],
   "source": [
    "# Lambda function to extract the month\n",
    "extract_month = lambda date_str: datetime.strptime(date_str, '%Y-%m-%d').month\n",
    "extract_month"
   ]
  },
  {
   "cell_type": "markdown",
   "metadata": {},
   "source": [
    "## What is the average number of words for a yelp review?\n",
    "Do this with a single line of code."
   ]
  },
  {
   "cell_type": "code",
   "execution_count": 18,
   "metadata": {},
   "outputs": [
    {
     "data": {
      "text/plain": [
       "2.0"
      ]
     },
     "execution_count": 18,
     "metadata": {},
     "output_type": "execute_result"
    }
   ],
   "source": [
    "reviews = [\n",
    "    \"Great service!\"]\n",
    "average_words = sum(len(review.split()) for review in reviews) / len(reviews) if reviews else 0\n",
    "average_words\n"
   ]
  },
  {
   "cell_type": "markdown",
   "metadata": {},
   "source": [
    "## Create a new column for the number of words in the review"
   ]
  },
  {
   "cell_type": "code",
   "execution_count": 26,
   "metadata": {
    "scrolled": true
   },
   "outputs": [
    {
     "name": "stdout",
     "output_type": "stream",
     "text": [
      "1       1\n",
      "2       1\n",
      "4       1\n",
      "5       1\n",
      "10      1\n",
      "       ..\n",
      "689     1\n",
      "4874    1\n",
      "564     1\n",
      "3458    1\n",
      "4206    1\n",
      "Name: word_count, Length: 2610, dtype: int64\n"
     ]
    }
   ],
   "source": [
    "# Add a new column 'word_count' with the number of words in each review\n",
    "df['word_count'] = df['review_id'].apply(lambda x: len(x.split()))\n",
    "print(df['word_count'])"
   ]
  },
  {
   "cell_type": "code",
   "execution_count": 25,
   "metadata": {},
   "outputs": [
    {
     "name": "stdout",
     "output_type": "stream",
     "text": [
      "Index(['business_id', 'cool', 'date', 'funny', 'review_id', 'stars', 'text',\n",
      "       'useful', 'user_id', 'stars_squared', 'Review_length'],\n",
      "      dtype='object')\n"
     ]
    }
   ],
   "source": [
    "print(df.columns)\n"
   ]
  },
  {
   "cell_type": "markdown",
   "metadata": {},
   "source": [
    "## Rewrite the following as a lambda function\n",
    "\n",
    "Create a new column `'Review_Length'` by applying this lambda function to the `'Review_num_words'` column. "
   ]
  },
  {
   "cell_type": "code",
   "execution_count": 9,
   "metadata": {},
   "outputs": [],
   "source": [
    "# Rewrite the following function as a lambda function\n",
    "def rewrite_as_lambda(value):\n",
    "    if len(value) < 50:\n",
    "        return 'Short'\n",
    "    elif len(value) < 80:\n",
    "        return 'Medium'\n",
    "    else:\n",
    "        return 'Long'\n",
    "# Hint: nest your if, else conditionals\n",
    "\n",
    "df['Review_length'] = None\n"
   ]
  },
  {
   "cell_type": "code",
   "execution_count": 27,
   "metadata": {},
   "outputs": [],
   "source": [
    "df['Review_length'] = df['review_id'].apply(lambda value: 'Short'\n",
    "                                         if len(value) < 50 \n",
    "                                         else ('Medium' if len(value) < 80 else 'Long'))\n"
   ]
  },
  {
   "cell_type": "markdown",
   "metadata": {},
   "source": [
    "## Level Up: Dates Advanced\n",
    "<img src=\"images/world_map.png\" width=\"600\">  \n",
    "\n",
    "Print the first five rows of the `'date'` column. "
   ]
  },
  {
   "cell_type": "code",
   "execution_count": 10,
   "metadata": {},
   "outputs": [
    {
     "name": "stdout",
     "output_type": "stream",
     "text": [
      "1     2012-11-13\n",
      "2     2014-10-23\n",
      "4     2014-09-05\n",
      "5     2011-02-25\n",
      "10    2016-06-15\n",
      "Name: date, dtype: object\n"
     ]
    }
   ],
   "source": [
    "# Your code here\n",
    "print(df['date'].head())\n"
   ]
  },
  {
   "cell_type": "markdown",
   "metadata": {},
   "source": [
    "Overwrite the `'date'` column by reordering the month and day from `YYYY-MM-DD` to `DD-MM-YYYY`. Try to do this using a lambda function."
   ]
  },
  {
   "cell_type": "code",
   "execution_count": 12,
   "metadata": {
    "scrolled": true
   },
   "outputs": [
    {
     "data": {
      "text/plain": [
       "1       2012-11-13\n",
       "2       2014-10-23\n",
       "4       2014-09-05\n",
       "5       2011-02-25\n",
       "10      2016-06-15\n",
       "           ...    \n",
       "689     2013-06-02\n",
       "4874    2016-08-14\n",
       "564     2016-06-14\n",
       "3458    2013-10-02\n",
       "4206    2016-08-15\n",
       "Name: date, Length: 2610, dtype: object"
      ]
     },
     "execution_count": 12,
     "metadata": {},
     "output_type": "execute_result"
    }
   ],
   "source": [
    "# Your code here\n",
    "df['date'] = df['date'].apply(lambda x: '-'.join(x.split('-')[1::-1] + x.split('-')[2:]))\n",
    "df['date']\n"
   ]
  },
  {
   "cell_type": "code",
   "execution_count": 14,
   "metadata": {},
   "outputs": [
    {
     "data": {
      "text/plain": [
       "1       11-13-2012\n",
       "2       10-23-2014\n",
       "4       09-05-2014\n",
       "5       02-25-2011\n",
       "10      06-15-2016\n",
       "           ...    \n",
       "689     06-02-2013\n",
       "4874    08-14-2016\n",
       "564     06-14-2016\n",
       "3458    10-02-2013\n",
       "4206    08-15-2016\n",
       "Name: date, Length: 2610, dtype: object"
      ]
     },
     "execution_count": 14,
     "metadata": {},
     "output_type": "execute_result"
    }
   ],
   "source": [
    "df['date'] = df['date'].apply(lambda x: '-'.join(x.split('-')[2:][::-1] + x.split('-')[:2]))\n",
    "df['date']\n"
   ]
  },
  {
   "cell_type": "markdown",
   "metadata": {},
   "source": [
    "## Summary\n",
    "\n",
    "Hopefully, you're getting the hang of lambda functions now! It's important not to overuse them - it will often make more sense to define a function so that it's reusable elsewhere. But whenever you need to quickly apply some simple processing to a collection of data you have a new technique that will help you to do just that. It'll also be useful if you're reading someone else's code that happens to use lambdas."
   ]
  }
 ],
 "metadata": {
  "kernelspec": {
   "display_name": "Python (learn-env)",
   "language": "python",
   "name": "learn-env"
  },
  "language_info": {
   "codemirror_mode": {
    "name": "ipython",
    "version": 3
   },
   "file_extension": ".py",
   "mimetype": "text/x-python",
   "name": "python",
   "nbconvert_exporter": "python",
   "pygments_lexer": "ipython3",
   "version": "3.8.5"
  }
 },
 "nbformat": 4,
 "nbformat_minor": 2
}
